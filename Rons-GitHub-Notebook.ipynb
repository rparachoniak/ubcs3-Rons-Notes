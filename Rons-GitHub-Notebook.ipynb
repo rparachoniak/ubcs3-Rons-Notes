{
 "cells": [
  {
   "cell_type": "markdown",
   "metadata": {},
   "source": [
    "#Ron's Notes\n",
    "\n",
    "Here are a few notes\n",
    "\n",
    "This is a list:\n",
    "1. item 1\n",
    "2. item 2 with a link [phas homepage](http://phas.ubc.ca)\n",
    "3. this is an image ![cdn flag](http://shop.flagshop.com/media/catalog/product/cache/1/small_image/135x/9df78eab33525d08d6e5fb8d27136e95/f/l/flag-canada-national-s_1.gif)\n",
    "4. you can do other stuff too\n",
    "  * unorder list item 1\n",
    "  * unordered list item 2\n",
    "5. and so on..."
   ]
  },
  {
   "cell_type": "code",
   "execution_count": null,
   "metadata": {
    "collapsed": true
   },
   "outputs": [],
   "source": []
  }
 ],
 "metadata": {
  "kernelspec": {
   "display_name": "Python 3",
   "language": "python",
   "name": "python3"
  },
  "language_info": {
   "codemirror_mode": {
    "name": "ipython",
    "version": 3
   },
   "file_extension": ".py",
   "mimetype": "text/x-python",
   "name": "python",
   "nbconvert_exporter": "python",
   "pygments_lexer": "ipython3",
   "version": "3.5.1"
  }
 },
 "nbformat": 4,
 "nbformat_minor": 0
}
